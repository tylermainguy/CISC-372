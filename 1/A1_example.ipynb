{
  "nbformat": 4,
  "nbformat_minor": 0,
  "metadata": {
    "colab": {
      "name": "A1_example.ipynb",
      "provenance": [],
      "collapsed_sections": []
    },
    "kernelspec": {
      "name": "python3",
      "display_name": "Python 3"
    },
    "accelerator": "GPU"
  },
  "cells": [
    {
      "cell_type": "code",
      "metadata": {
        "id": "vTs11WubmRhV",
        "colab_type": "code",
        "colab": {}
      },
      "source": [
        "# download data (-q is the quiet mode)\n",
        "! wget -q https://www.dropbox.com/s/lhb1awpi769bfdr/test.csv?dl=1 -O test.csv\n",
        "! wget -q https://www.dropbox.com/s/gudb5eunj700s7j/train.csv?dl=1 -O train.csv\n",
        "\n"
      ],
      "execution_count": 0,
      "outputs": []
    },
    {
      "cell_type": "code",
      "metadata": {
        "id": "jrsga6qkouO1",
        "colab_type": "code",
        "outputId": "c7fc42d7-9a61-4f64-d278-06f741694a5f",
        "colab": {
          "base_uri": "https://localhost:8080/",
          "height": 300
        }
      },
      "source": [
        "# Import the pandas library for useful data structures \n",
        "# and functionality for data analysis\n",
        "import pandas as pd\n",
        "\n",
        "# Read in the training set\n",
        "Xy_train = pd.read_csv('train.csv', engine='python')\n",
        "# Remove the target column from the data set for training\n",
        "# (that's the column we're predicting, can't be in the training set)\n",
        "X_train = Xy_train.drop(columns=['price_rating'])\n",
        "# Extract the target column from the dataset\n",
        "y_train = Xy_train[['price_rating']]\n",
        "\n",
        "# Prints the number of entries in the training set\n",
        "print('traning', len(X_train))\n",
        "# Histogram plot of the different classes in our target attribute\n",
        "Xy_train.price_rating.hist()\n",
        "\n",
        "# Read in the test set\n",
        "X_test = pd.read_csv('test.csv', engine='python')\n",
        "\n",
        "# Extract the unique ID for each sample from the testing dataset\n",
        "# (this is used for submissions to kaggle)\n",
        "testing_ids = X_test.Id\n",
        "# Output the number of samples in the test set\n",
        "print('testing', len(X_test))\n"
      ],
      "execution_count": 2,
      "outputs": [
        {
          "output_type": "stream",
          "text": [
            "traning 7631\n",
            "testing 7632\n"
          ],
          "name": "stdout"
        },
        {
          "output_type": "display_data",
          "data": {
            "image/png": "[encoded data removed]",
            "text/plain": [
              "<Figure size 432x288 with 1 Axes>"
            ]
          },
          "metadata": {
            "tags": []
          }
        }
      ]
    },
    {
      "cell_type": "code",
      "metadata": {
        "id": "3vFDJ3lNmE6P",
        "colab_type": "code",
        "colab": {}
      },
      "source": [
        "# model training and tuning\n",
        "import numpy as np\n",
        "from sklearn.compose import ColumnTransformer\n",
        "from sklearn.datasets import fetch_openml\n",
        "from sklearn.pipeline import Pipeline\n",
        "from sklearn.impute import SimpleImputer\n",
        "from sklearn.preprocessing import StandardScaler, OneHotEncoder\n",
        "from sklearn.linear_model import LogisticRegression\n",
        "from sklearn.model_selection import train_test_split, GridSearchCV\n",
        "from xgboost.sklearn import XGBClassifier\n",
        "\n",
        "# Set random generator to produce consistent random values\n",
        "np.random.seed(0)\n",
        "\n",
        "# Identify the numeric features in the dataset used in the model\n",
        "numeric_features = [\"latitude\", \"longitude\", \"accommodates\", \"bathrooms\", \n",
        "                    \"bedrooms\", \"beds\", \"square_feet\",\"guests_included\", \n",
        "                    \"number_of_reviews\", \"review_scores_accuracy\", \n",
        "                    \"review_scores_cleanliness\", \"review_scores_checkin\", \n",
        "                    \"review_scores_communication\", \"review_scores_location\", \n",
        "                    \"review_scores_value\", \"reviews_per_month\"]\n",
        "\n",
        "# Simple imputer that replaces NaN values with the median of all other existing\n",
        "# values in the column. Scaler takes feature values and scales them to unit \n",
        "# variance and mean of 0. Added to a Pipeline object to be used later\n",
        "numeric_transformer = Pipeline(steps=[\n",
        "    ('imputer', SimpleImputer(strategy='median')),\n",
        "    ('scaler', StandardScaler())])\n",
        "\n",
        "# Identify the categorical features to be used in the model\n",
        "categorical_features = [\"host_is_superhost\", \"property_type\",\n",
        "                        \"bed_type\", \"is_business_travel_ready\"]\n",
        "\n",
        "# Apply impute (as described above) with default value \"missing\". Then performs\n",
        "# one hot encoding, which takes possible categorical feature values and splits\n",
        "# them into columns with either 1 or 0 (present or not present). If we were\n",
        "# to just use label encoding, then our model would infer that the higher\n",
        "# the categorical value the better (which is certainly not the case) \n",
        "categorical_transformer = Pipeline(steps=[\n",
        "    ('imputer', SimpleImputer(strategy='constant', fill_value='missing')),\n",
        "    ('onehot', OneHotEncoder(handle_unknown='ignore'))])\n",
        "\n",
        "# Apply relevant pipeline operations to each of the column types (i.e. apply\n",
        "# the categorical_transformer to the list of categorical columns, ...)\n",
        "preprocessor = ColumnTransformer(\n",
        "    transformers=[\n",
        "        ('num', numeric_transformer, numeric_features),\n",
        "        ('cat', categorical_transformer, categorical_features)])\n",
        "\n",
        "# Regression pipeline for training the XGBoost ensemble. First step of the \n",
        "# pipeline is to apply the preprocessing steps, then to train the regression\n",
        "# whose objective function to optimize is softmax multi: means do multi-class\n",
        "# classification\n",
        "regr = Pipeline(steps=[('preprocessor', preprocessor),\n",
        "                      ('regressor', XGBClassifier(\n",
        "                          objective='multi:softmax', seed=1))])\n",
        "\n",
        "# Syntax to unpack the column values (*numeric_features). Takes the list of\n",
        "# column values and turns them into an argument list to index data from our\n",
        "# X_train and X_test data sets (take only the columns we want)\n",
        "X_train = X_train[[*numeric_features, *categorical_features]]\n",
        "X_test = X_test[[*numeric_features, *categorical_features]]\n",
        "\n",
        "# `__` denotes attribute \n",
        "# (e.g. regressor__n_estimators means the `n_estimators` param for `regressor`\n",
        "#  which is our xgb). Passing in list give the possible values to be checked\n",
        "#  in an exhaustive search.\n",
        "param_grid = {\n",
        "    'preprocessor__num__imputer__strategy': ['mean'],\n",
        "    'regressor__n_estimators': [50, 100, 150, 200],\n",
        "    'regressor__max_depth':[10, 15, 20, 25, 30],\n",
        "}\n",
        "\n",
        "# Grid search performs an exhaustive search of the specified parameters from\n",
        "# param_grid on a given model. Performed on the XGBoost model (regr) that we \n",
        "# specified above. Performs 5-fold cross validation, scores function based\n",
        "# on the accuracy (f-score), and runs 2 jobs in parallel to complete the task.\n",
        "# After setting up model, performs fit to run parameter optimization for the \n",
        "# model. Verbose 3 just means there's a verbose output when running (the \n",
        "# higher the parameter value, the more messages)\n",
        "grid_search = GridSearchCV(\n",
        "    regr, param_grid, cv=5, verbose=3, n_jobs=2, \n",
        "    scoring='accuracy')\n",
        "\n",
        "# Parameter optimization and model fitting\n",
        "grid_search.fit(X_train, y_train)\n",
        "\n",
        "# Output the best accuracy from the model fit on training\n",
        "print('best score {}'.format(grid_search.best_score_))"
      ],
      "execution_count": 0,
      "outputs": []
    },
    {
      "cell_type": "code",
      "metadata": {
        "id": "PF6WrzdKmJ97",
        "colab_type": "code",
        "colab": {}
      },
      "source": [
        "# Prediction & generating the submission file\n",
        "y_pred = grid_search.predict(X_test)\n",
        "pd.DataFrame(\n",
        "    {'Id': testing_ids, 'price_rating':y_pred}).to_csv('sample_submission.csv', index=False)"
      ],
      "execution_count": 0,
      "outputs": []
    }
  ]
}