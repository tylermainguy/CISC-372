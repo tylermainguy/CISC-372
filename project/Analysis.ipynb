{
  "nbformat": 4,
  "nbformat_minor": 0,
  "metadata": {
    "colab": {
      "name": "Analysis.ipynb",
      "provenance": [],
      "collapsed_sections": [],
      "toc_visible": true,
      "machine_shape": "hm"
    },
    "kernelspec": {
      "name": "python3",
      "display_name": "Python 3"
    }
  },
  "cells": [
    {
      "cell_type": "markdown",
      "metadata": {
        "id": "CIO_miidavQ6",
        "colab_type": "text"
      },
      "source": [
        "# Preliminary Analysis\n",
        "\n",
        "This section will serve as the preliminary analysis of the dataset that I'm using for this project.\n",
        "\n",
        "Goals for this section:\n",
        "\n",
        "1. Load the data into collab\n",
        "2. Analyze the distribution of variables\n",
        "3. Visualize base level correlations\n"
      ]
    },
    {
      "cell_type": "markdown",
      "metadata": {
        "id": "yCex5mJHa8EH",
        "colab_type": "text"
      },
      "source": [
        "## Loading the Data\n",
        "\n",
        "Hopefully this works on the first try, considering it's a pretty hefty chunk of data."
      ]
    },
    {
      "cell_type": "markdown",
      "metadata": {
        "id": "c4DAHjuVc6ge",
        "colab_type": "text"
      },
      "source": [
        ""
      ]
    },
    {
      "cell_type": "code",
      "metadata": {
        "id": "pJM8zQFJbK4g",
        "colab_type": "code",
        "outputId": "8ffa18eb-e875-49de-9273-f3c3f6a3ee79",
        "colab": {
          "base_uri": "https://localhost:8080/",
          "height": 72
        }
      },
      "source": [
        "import lightgbm as lgb\n",
        "import logging\n",
        "import math\n",
        "import matplotlib.pyplot as plt\n",
        "import numpy as np\n",
        "import os\n",
        "import pandas as pd\n",
        "import seaborn as sns\n",
        "\n",
        "from google.colab import drive  \n",
        "from lightgbm.sklearn import LGBMClassifier\n",
        "from scipy import stats\n",
        "from sklearn.compose import ColumnTransformer\n",
        "from sklearn.datasets import fetch_openml\n",
        "from sklearn.impute import SimpleImputer\n",
        "from sklearn.linear_model import LogisticRegression\n",
        "from sklearn.metrics import accuracy_score\n",
        "from sklearn.model_selection import GridSearchCV, train_test_split\n",
        "from sklearn.pipeline import Pipeline\n",
        "from sklearn.preprocessing import StandardScaler, OneHotEncoder\n"
      ],
      "execution_count": 1,
      "outputs": [
        {
          "output_type": "stream",
          "text": [
            "/usr/local/lib/python3.6/dist-packages/statsmodels/tools/_testing.py:19: FutureWarning: pandas.util.testing is deprecated. Use the functions in the public API at pandas.testing instead.\n",
            "  import pandas.util.testing as tm\n"
          ],
          "name": "stderr"
        }
      ]
    },
    {
      "cell_type": "code",
      "metadata": {
        "id": "axsCv-HTcY4e",
        "colab_type": "code",
        "outputId": "23cdc4ef-3565-4556-9f3f-4c0144dc161b",
        "colab": {
          "base_uri": "https://localhost:8080/",
          "height": 124
        }
      },
      "source": [
        "drive.mount(\"/content/gdrive\")  "
      ],
      "execution_count": 2,
      "outputs": [
        {
          "output_type": "stream",
          "text": [
            "Go to this URL in a browser: https://accounts.google.com/o/oauth2/auth?client_id=947318989803-6bn6qk8qdgf4n4g3pfee6491hc0brc4i.apps.googleusercontent.com&redirect_uri=urn%3aietf%3awg%3aoauth%3a2.0%3aoob&response_type=code&scope=email%20https%3a%2f%2fwww.googleapis.com%2fauth%2fdocs.test%20https%3a%2f%2fwww.googleapis.com%2fauth%2fdrive%20https%3a%2f%2fwww.googleapis.com%2fauth%2fdrive.photos.readonly%20https%3a%2f%2fwww.googleapis.com%2fauth%2fpeopleapi.readonly\n",
            "\n",
            "Enter your authorization code:\n",
            "··········\n",
            "Mounted at /content/gdrive\n"
          ],
          "name": "stdout"
        }
      ]
    },
    {
      "cell_type": "code",
      "metadata": {
        "id": "yAt0jQKEcmTL",
        "colab_type": "code",
        "colab": {}
      },
      "source": [
        "data = pd.read_csv(\"/content/gdrive/My Drive/Colab Notebooks/CISC 372/Project/ks-projects-201801.csv\")"
      ],
      "execution_count": 0,
      "outputs": []
    },
    {
      "cell_type": "markdown",
      "metadata": {
        "id": "GM0P3QZ2ZVCg",
        "colab_type": "text"
      },
      "source": [
        ""
      ]
    },
    {
      "cell_type": "code",
      "metadata": {
        "id": "r0RQ1ewpr9Ro",
        "colab_type": "code",
        "outputId": "70e151c3-eeea-4ed6-b76f-8c9db863ec44",
        "colab": {
          "base_uri": "https://localhost:8080/",
          "height": 740
        }
      },
      "source": [
        "print(data.info())\n",
        "plot = data[\"main_category\"].value_counts()[1:10].plot.bar()\n",
        "plot.set_xlabel(\"Main Category\")\n",
        "plot.set_ylabel(\"# of Projects\")\n",
        "plot.set_title(\"Histogram of Main Categories of Projects\")\n",
        "fig = plot.get_figure()\n",
        "# parameter to make sure labels of figure aren't cut off\n",
        "fig.savefig(\"fig.png\",bbox_inches = \"tight\")"
      ],
      "execution_count": 4,
      "outputs": [
        {
          "output_type": "stream",
          "text": [
            "<class 'pandas.core.frame.DataFrame'>\n",
            "RangeIndex: 378661 entries, 0 to 378660\n",
            "Data columns (total 15 columns):\n",
            " #   Column            Non-Null Count   Dtype  \n",
            "---  ------            --------------   -----  \n",
            " 0   ID                378661 non-null  int64  \n",
            " 1   name              378657 non-null  object \n",
            " 2   category          378661 non-null  object \n",
            " 3   main_category     378661 non-null  object \n",
            " 4   currency          378661 non-null  object \n",
            " 5   deadline          378661 non-null  object \n",
            " 6   goal              378661 non-null  float64\n",
            " 7   launched          378661 non-null  object \n",
            " 8   pledged           378661 non-null  float64\n",
            " 9   state             378661 non-null  object \n",
            " 10  backers           378661 non-null  int64  \n",
            " 11  country           378661 non-null  object \n",
            " 12  usd pledged       374864 non-null  float64\n",
            " 13  usd_pledged_real  378661 non-null  float64\n",
            " 14  usd_goal_real     378661 non-null  float64\n",
            "dtypes: float64(5), int64(2), object(8)\n",
            "memory usage: 43.3+ MB\n",
            "None\n"
          ],
          "name": "stdout"
        },
        {
          "output_type": "display_data",
          "data": {
            "image/png": "[encoded data removed]",
            "text/plain": [
              "<Figure size 432x288 with 1 Axes>"
            ]
          },
          "metadata": {
            "tags": [],
            "needs_background": "light"
          }
        }
      ]
    },
    {
      "cell_type": "code",
      "metadata": {
        "id": "Y5thbPQqMy6X",
        "colab_type": "code",
        "outputId": "4021640f-f2c3-4f27-9f60-3e608e2f82af",
        "colab": {
          "base_uri": "https://localhost:8080/",
          "height": 340
        }
      },
      "source": [
        "# Let's get an idea as to the distribution of different outcomes\n",
        "plot = data[\"state\"].value_counts().plot.bar()\n",
        "plot.set_xlabel(\"State of Project\")\n",
        "plot.set_ylabel(\"# of Projects\")\n",
        "plot.set_title(\"Histogram of States of Projects\")\n",
        "fig = plot.get_figure()\n",
        "# parameter to make sure labels of figure aren't cut off\n",
        "fig.savefig(\"test.png\",bbox_inches = \"tight\")"
      ],
      "execution_count": 5,
      "outputs": [
        {
          "output_type": "display_data",
          "data": {
            "image/png": "[encoded data removed]",
            "text/plain": [
              "<Figure size 432x288 with 1 Axes>"
            ]
          },
          "metadata": {
            "tags": [],
            "needs_background": "light"
          }
        }
      ]
    },
    {
      "cell_type": "markdown",
      "metadata": {
        "id": "hva8QlZGPanh",
        "colab_type": "text"
      },
      "source": [
        "## Let's Build A Simple Model\n",
        "\n",
        "Based on some of the basic understanding I have of the data, I'm going to build a simple LGBM model to see if we can effectively predict how well the model is going to perform. "
      ]
    },
    {
      "cell_type": "code",
      "metadata": {
        "id": "b1jYTc43P4ST",
        "colab_type": "code",
        "colab": {}
      },
      "source": [
        "# First, let's save the categorical features\n",
        "data.head()\n",
        "categorical_features = [\"category\", \"main_category\", \"country\"]\n",
        "\n",
        "numeric_features = [\"usd_goal_real\", \"backers\"]\n",
        "\n",
        "categorical_transformer = Pipeline(steps=[\n",
        "                (\"imputer\", SimpleImputer(strategy=\"constant\", fill_value=\"missing\")),\n",
        "                (\"onehot\", OneHotEncoder(handle_unknown=\"ignore\"))\n",
        "])\n",
        "\n",
        "numeric_transformer = Pipeline(steps=[\n",
        "                (\"imputer\", SimpleImputer(fill_value=\"median\")),\n",
        "                (\"scaler\", StandardScaler())\n",
        "])\n",
        "\n",
        "preprocessor = ColumnTransformer(\n",
        "    transformers=[\n",
        "          (\"num\", numeric_transformer, numeric_features),\n",
        "          (\"cat\", categorical_transformer, categorical_features)\n",
        "    ]\n",
        ")"
      ],
      "execution_count": 0,
      "outputs": []
    },
    {
      "cell_type": "code",
      "metadata": {
        "id": "maW_m6_9SE0W",
        "colab_type": "code",
        "colab": {}
      },
      "source": [
        "# Let's make the target attribute a bit prettier, and split the data into train/test\n",
        "# Drop live projects\n",
        "data = data.query('state != \"live\" and state != \"undefined\"')\n",
        "\n",
        "# Add outcome column, \"successful\" == 1, others are 0\n",
        "data = data.assign(outcome=(data['state'] == 'successful').astype(int))"
      ],
      "execution_count": 0,
      "outputs": []
    },
    {
      "cell_type": "code",
      "metadata": {
        "id": "R-Z6ppNhVROd",
        "colab_type": "code",
        "colab": {}
      },
      "source": [
        "# data = data.drop([\"state\", \"ID\", \"name\", \"currency\", \"deadline\", \"goal\", \"launched\",\"pledged\", \"usd pledged\"], axis=1)\n",
        "\n",
        "y = data.outcome\n",
        "X_train, X_test, y_train, y_test = train_test_split(data, y, test_size=0.3)\n",
        "\n",
        "# Select features from sets to be used\n",
        "X_train = X_train[[*numeric_features, *categorical_features]]\n",
        "X_test = X_test[[*numeric_features, *categorical_features]]"
      ],
      "execution_count": 0,
      "outputs": []
    },
    {
      "cell_type": "code",
      "metadata": {
        "id": "ESMH8mefYjrN",
        "colab_type": "code",
        "outputId": "ba6598b0-b872-46cf-b5de-3eebedb24191",
        "colab": {
          "base_uri": "https://localhost:8080/",
          "height": 1000
        }
      },
      "source": [
        "# Build classification pipeline for LightGBM\n",
        "regr = Pipeline(steps=[('preprocessor', preprocessor),\n",
        "                      ('regressor', LGBMClassifier(boosting_type='gbdt',\n",
        "                        objective='binary'\n",
        "                      ))])\n",
        "\n",
        "\n",
        "# Select features from sets to be used\n",
        "# X_test.drop([\"outcome\"], axis=1)\n",
        "\n",
        "# `__` denotes attribute \n",
        "# (e.g. regressor__n_estimators means the `n_estimators` param for `regressor`\n",
        "#  which is our xgb).\n",
        "param_grid = {\n",
        "    'preprocessor__num__imputer__strategy': ['median'],\n",
        "    'regressor__num_leaves': [30, 45],\n",
        "    'regressor__n_estimators': [200, 300],\n",
        "    'regressor__max_depth': [10, 15],\n",
        "    'regressor__learning_rate': [0.03, 0.05],\n",
        "    'regressor__min_data_in_leaf' : [10, 20],\n",
        "}\n",
        "\n",
        "# Grid search the parameters above, 3-fold cv\n",
        "grid_search = GridSearchCV(\n",
        "    regr, param_grid, cv=3, verbose=3, n_jobs=1, \n",
        "    scoring='accuracy')\n",
        "\n",
        "# Parameter optimization and model fitting\n",
        "grid_search.fit(X_train, y_train)"
      ],
      "execution_count": 9,
      "outputs": [
        {
          "output_type": "stream",
          "text": [
            "Fitting 3 folds for each of 32 candidates, totalling 96 fits\n",
            "[CV] preprocessor__num__imputer__strategy=median, regressor__learning_rate=0.03, regressor__max_depth=10, regressor__min_data_in_leaf=10, regressor__n_estimators=200, regressor__num_leaves=30 \n"
          ],
          "name": "stdout"
        },
        {
          "output_type": "stream",
          "text": [
            "[Parallel(n_jobs=1)]: Using backend SequentialBackend with 1 concurrent workers.\n"
          ],
          "name": "stderr"
        },
        {
          "output_type": "stream",
          "text": [
            "[CV]  preprocessor__num__imputer__strategy=median, regressor__learning_rate=0.03, regressor__max_depth=10, regressor__min_data_in_leaf=10, regressor__n_estimators=200, regressor__num_leaves=30, score=0.935, total=   2.7s\n",
            "[CV] preprocessor__num__imputer__strategy=median, regressor__learning_rate=0.03, regressor__max_depth=10, regressor__min_data_in_leaf=10, regressor__n_estimators=200, regressor__num_leaves=30 \n"
          ],
          "name": "stdout"
        },
        {
          "output_type": "stream",
          "text": [
            "[Parallel(n_jobs=1)]: Done   1 out of   1 | elapsed:    2.7s remaining:    0.0s\n"
          ],
          "name": "stderr"
        },
        {
          "output_type": "stream",
          "text": [
            "[CV]  preprocessor__num__imputer__strategy=median, regressor__learning_rate=0.03, regressor__max_depth=10, regressor__min_data_in_leaf=10, regressor__n_estimators=200, regressor__num_leaves=30, score=0.936, total=   2.6s\n",
            "[CV] preprocessor__num__imputer__strategy=median, regressor__learning_rate=0.03, regressor__max_depth=10, regressor__min_data_in_leaf=10, regressor__n_estimators=200, regressor__num_leaves=30 \n"
          ],
          "name": "stdout"
        },
        {
          "output_type": "stream",
          "text": [
            "[Parallel(n_jobs=1)]: Done   2 out of   2 | elapsed:    5.3s remaining:    0.0s\n"
          ],
          "name": "stderr"
        },
        {
          "output_type": "stream",
          "text": [
            "[CV]  preprocessor__num__imputer__strategy=median, regressor__learning_rate=0.03, regressor__max_depth=10, regressor__min_data_in_leaf=10, regressor__n_estimators=200, regressor__num_leaves=30, score=0.934, total=   2.5s\n",
            "[CV] preprocessor__num__imputer__strategy=median, regressor__learning_rate=0.03, regressor__max_depth=10, regressor__min_data_in_leaf=10, regressor__n_estimators=200, regressor__num_leaves=45 \n",
            "[CV]  preprocessor__num__imputer__strategy=median, regressor__learning_rate=0.03, regressor__max_depth=10, regressor__min_data_in_leaf=10, regressor__n_estimators=200, regressor__num_leaves=45, score=0.935, total=   2.7s\n",
            "[CV] preprocessor__num__imputer__strategy=median, regressor__learning_rate=0.03, regressor__max_depth=10, regressor__min_data_in_leaf=10, regressor__n_estimators=200, regressor__num_leaves=45 \n",
            "[CV]  preprocessor__num__imputer__strategy=median, regressor__learning_rate=0.03, regressor__max_depth=10, regressor__min_data_in_leaf=10, regressor__n_estimators=200, regressor__num_leaves=45, score=0.936, total=   2.7s\n",
            "[CV] preprocessor__num__imputer__strategy=median, regressor__learning_rate=0.03, regressor__max_depth=10, regressor__min_data_in_leaf=10, regressor__n_estimators=200, regressor__num_leaves=45 \n",
            "[CV]  preprocessor__num__imputer__strategy=median, regressor__learning_rate=0.03, regressor__max_depth=10, regressor__min_data_in_leaf=10, regressor__n_estimators=200, regressor__num_leaves=45, score=0.934, total=   2.7s\n",
            "[CV] preprocessor__num__imputer__strategy=median, regressor__learning_rate=0.03, regressor__max_depth=10, regressor__min_data_in_leaf=10, regressor__n_estimators=300, regressor__num_leaves=30 \n",
            "[CV]  preprocessor__num__imputer__strategy=median, regressor__learning_rate=0.03, regressor__max_depth=10, regressor__min_data_in_leaf=10, regressor__n_estimators=300, regressor__num_leaves=30, score=0.935, total=   3.5s\n",
            "[CV] preprocessor__num__imputer__strategy=median, regressor__learning_rate=0.03, regressor__max_depth=10, regressor__min_data_in_leaf=10, regressor__n_estimators=300, regressor__num_leaves=30 \n",
            "[CV]  preprocessor__num__imputer__strategy=median, regressor__learning_rate=0.03, regressor__max_depth=10, regressor__min_data_in_leaf=10, regressor__n_estimators=300, regressor__num_leaves=30, score=0.937, total=   3.5s\n",
            "[CV] preprocessor__num__imputer__strategy=median, regressor__learning_rate=0.03, regressor__max_depth=10, regressor__min_data_in_leaf=10, regressor__n_estimators=300, regressor__num_leaves=30 \n",
            "[CV]  preprocessor__num__imputer__strategy=median, regressor__learning_rate=0.03, regressor__max_depth=10, regressor__min_data_in_leaf=10, regressor__n_estimators=300, regressor__num_leaves=30, score=0.934, total=   3.5s\n",
            "[CV] preprocessor__num__imputer__strategy=median, regressor__learning_rate=0.03, regressor__max_depth=10, regressor__min_data_in_leaf=10, regressor__n_estimators=300, regressor__num_leaves=45 \n",
            "[CV]  preprocessor__num__imputer__strategy=median, regressor__learning_rate=0.03, regressor__max_depth=10, regressor__min_data_in_leaf=10, regressor__n_estimators=300, regressor__num_leaves=45, score=0.935, total=   3.8s\n",
            "[CV] preprocessor__num__imputer__strategy=median, regressor__learning_rate=0.03, regressor__max_depth=10, regressor__min_data_in_leaf=10, regressor__n_estimators=300, regressor__num_leaves=45 \n",
            "[CV]  preprocessor__num__imputer__strategy=median, regressor__learning_rate=0.03, regressor__max_depth=10, regressor__min_data_in_leaf=10, regressor__n_estimators=300, regressor__num_leaves=45, score=0.937, total=   3.7s\n",
            "[CV] preprocessor__num__imputer__strategy=median, regressor__learning_rate=0.03, regressor__max_depth=10, regressor__min_data_in_leaf=10, regressor__n_estimators=300, regressor__num_leaves=45 \n",
            "[CV]  preprocessor__num__imputer__strategy=median, regressor__learning_rate=0.03, regressor__max_depth=10, regressor__min_data_in_leaf=10, regressor__n_estimators=300, regressor__num_leaves=45, score=0.935, total=   3.8s\n",
            "[CV] preprocessor__num__imputer__strategy=median, regressor__learning_rate=0.03, regressor__max_depth=10, regressor__min_data_in_leaf=20, regressor__n_estimators=200, regressor__num_leaves=30 \n",
            "[CV]  preprocessor__num__imputer__strategy=median, regressor__learning_rate=0.03, regressor__max_depth=10, regressor__min_data_in_leaf=20, regressor__n_estimators=200, regressor__num_leaves=30, score=0.934, total=   2.5s\n",
            "[CV] preprocessor__num__imputer__strategy=median, regressor__learning_rate=0.03, regressor__max_depth=10, regressor__min_data_in_leaf=20, regressor__n_estimators=200, regressor__num_leaves=30 \n",
            "[CV]  preprocessor__num__imputer__strategy=median, regressor__learning_rate=0.03, regressor__max_depth=10, regressor__min_data_in_leaf=20, regressor__n_estimators=200, regressor__num_leaves=30, score=0.936, total=   2.5s\n",
            "[CV] preprocessor__num__imputer__strategy=median, regressor__learning_rate=0.03, regressor__max_depth=10, regressor__min_data_in_leaf=20, regressor__n_estimators=200, regressor__num_leaves=30 \n",
            "[CV]  preprocessor__num__imputer__strategy=median, regressor__learning_rate=0.03, regressor__max_depth=10, regressor__min_data_in_leaf=20, regressor__n_estimators=200, regressor__num_leaves=30, score=0.934, total=   2.5s\n",
            "[CV] preprocessor__num__imputer__strategy=median, regressor__learning_rate=0.03, regressor__max_depth=10, regressor__min_data_in_leaf=20, regressor__n_estimators=200, regressor__num_leaves=45 \n",
            "[CV]  preprocessor__num__imputer__strategy=median, regressor__learning_rate=0.03, regressor__max_depth=10, regressor__min_data_in_leaf=20, regressor__n_estimators=200, regressor__num_leaves=45, score=0.935, total=   2.7s\n",
            "[CV] preprocessor__num__imputer__strategy=median, regressor__learning_rate=0.03, regressor__max_depth=10, regressor__min_data_in_leaf=20, regressor__n_estimators=200, regressor__num_leaves=45 \n",
            "[CV]  preprocessor__num__imputer__strategy=median, regressor__learning_rate=0.03, regressor__max_depth=10, regressor__min_data_in_leaf=20, regressor__n_estimators=200, regressor__num_leaves=45, score=0.936, total=   2.7s\n",
            "[CV] preprocessor__num__imputer__strategy=median, regressor__learning_rate=0.03, regressor__max_depth=10, regressor__min_data_in_leaf=20, regressor__n_estimators=200, regressor__num_leaves=45 \n",
            "[CV]  preprocessor__num__imputer__strategy=median, regressor__learning_rate=0.03, regressor__max_depth=10, regressor__min_data_in_leaf=20, regressor__n_estimators=200, regressor__num_leaves=45, score=0.934, total=   2.7s\n",
            "[CV] preprocessor__num__imputer__strategy=median, regressor__learning_rate=0.03, regressor__max_depth=10, regressor__min_data_in_leaf=20, regressor__n_estimators=300, regressor__num_leaves=30 \n",
            "[CV]  preprocessor__num__imputer__strategy=median, regressor__learning_rate=0.03, regressor__max_depth=10, regressor__min_data_in_leaf=20, regressor__n_estimators=300, regressor__num_leaves=30, score=0.935, total=   3.5s\n",
            "[CV] preprocessor__num__imputer__strategy=median, regressor__learning_rate=0.03, regressor__max_depth=10, regressor__min_data_in_leaf=20, regressor__n_estimators=300, regressor__num_leaves=30 \n",
            "[CV]  preprocessor__num__imputer__strategy=median, regressor__learning_rate=0.03, regressor__max_depth=10, regressor__min_data_in_leaf=20, regressor__n_estimators=300, regressor__num_leaves=30, score=0.937, total=   3.6s\n",
            "[CV] preprocessor__num__imputer__strategy=median, regressor__learning_rate=0.03, regressor__max_depth=10, regressor__min_data_in_leaf=20, regressor__n_estimators=300, regressor__num_leaves=30 \n",
            "[CV]  preprocessor__num__imputer__strategy=median, regressor__learning_rate=0.03, regressor__max_depth=10, regressor__min_data_in_leaf=20, regressor__n_estimators=300, regressor__num_leaves=30, score=0.934, total=   3.5s\n",
            "[CV] preprocessor__num__imputer__strategy=median, regressor__learning_rate=0.03, regressor__max_depth=10, regressor__min_data_in_leaf=20, regressor__n_estimators=300, regressor__num_leaves=45 \n",
            "[CV]  preprocessor__num__imputer__strategy=median, regressor__learning_rate=0.03, regressor__max_depth=10, regressor__min_data_in_leaf=20, regressor__n_estimators=300, regressor__num_leaves=45, score=0.935, total=   3.8s\n",
            "[CV] preprocessor__num__imputer__strategy=median, regressor__learning_rate=0.03, regressor__max_depth=10, regressor__min_data_in_leaf=20, regressor__n_estimators=300, regressor__num_leaves=45 \n",
            "[CV]  preprocessor__num__imputer__strategy=median, regressor__learning_rate=0.03, regressor__max_depth=10, regressor__min_data_in_leaf=20, regressor__n_estimators=300, regressor__num_leaves=45, score=0.937, total=   4.2s\n",
            "[CV] preprocessor__num__imputer__strategy=median, regressor__learning_rate=0.03, regressor__max_depth=10, regressor__min_data_in_leaf=20, regressor__n_estimators=300, regressor__num_leaves=45 \n",
            "[CV]  preprocessor__num__imputer__strategy=median, regressor__learning_rate=0.03, regressor__max_depth=10, regressor__min_data_in_leaf=20, regressor__n_estimators=300, regressor__num_leaves=45, score=0.935, total=   4.2s\n",
            "[CV] preprocessor__num__imputer__strategy=median, regressor__learning_rate=0.03, regressor__max_depth=15, regressor__min_data_in_leaf=10, regressor__n_estimators=200, regressor__num_leaves=30 \n",
            "[CV]  preprocessor__num__imputer__strategy=median, regressor__learning_rate=0.03, regressor__max_depth=15, regressor__min_data_in_leaf=10, regressor__n_estimators=200, regressor__num_leaves=30, score=0.934, total=   2.7s\n",
            "[CV] preprocessor__num__imputer__strategy=median, regressor__learning_rate=0.03, regressor__max_depth=15, regressor__min_data_in_leaf=10, regressor__n_estimators=200, regressor__num_leaves=30 \n",
            "[CV]  preprocessor__num__imputer__strategy=median, regressor__learning_rate=0.03, regressor__max_depth=15, regressor__min_data_in_leaf=10, regressor__n_estimators=200, regressor__num_leaves=30, score=0.936, total=   2.6s\n",
            "[CV] preprocessor__num__imputer__strategy=median, regressor__learning_rate=0.03, regressor__max_depth=15, regressor__min_data_in_leaf=10, regressor__n_estimators=200, regressor__num_leaves=30 \n",
            "[CV]  preprocessor__num__imputer__strategy=median, regressor__learning_rate=0.03, regressor__max_depth=15, regressor__min_data_in_leaf=10, regressor__n_estimators=200, regressor__num_leaves=30, score=0.934, total=   2.6s\n",
            "[CV] preprocessor__num__imputer__strategy=median, regressor__learning_rate=0.03, regressor__max_depth=15, regressor__min_data_in_leaf=10, regressor__n_estimators=200, regressor__num_leaves=45 \n",
            "[CV]  preprocessor__num__imputer__strategy=median, regressor__learning_rate=0.03, regressor__max_depth=15, regressor__min_data_in_leaf=10, regressor__n_estimators=200, regressor__num_leaves=45, score=0.935, total=   2.9s\n",
            "[CV] preprocessor__num__imputer__strategy=median, regressor__learning_rate=0.03, regressor__max_depth=15, regressor__min_data_in_leaf=10, regressor__n_estimators=200, regressor__num_leaves=45 \n",
            "[CV]  preprocessor__num__imputer__strategy=median, regressor__learning_rate=0.03, regressor__max_depth=15, regressor__min_data_in_leaf=10, regressor__n_estimators=200, regressor__num_leaves=45, score=0.936, total=   2.9s\n",
            "[CV] preprocessor__num__imputer__strategy=median, regressor__learning_rate=0.03, regressor__max_depth=15, regressor__min_data_in_leaf=10, regressor__n_estimators=200, regressor__num_leaves=45 \n",
            "[CV]  preprocessor__num__imputer__strategy=median, regressor__learning_rate=0.03, regressor__max_depth=15, regressor__min_data_in_leaf=10, regressor__n_estimators=200, regressor__num_leaves=45, score=0.934, total=   2.9s\n",
            "[CV] preprocessor__num__imputer__strategy=median, regressor__learning_rate=0.03, regressor__max_depth=15, regressor__min_data_in_leaf=10, regressor__n_estimators=300, regressor__num_leaves=30 \n",
            "[CV]  preprocessor__num__imputer__strategy=median, regressor__learning_rate=0.03, regressor__max_depth=15, regressor__min_data_in_leaf=10, regressor__n_estimators=300, regressor__num_leaves=30, score=0.935, total=   3.8s\n",
            "[CV] preprocessor__num__imputer__strategy=median, regressor__learning_rate=0.03, regressor__max_depth=15, regressor__min_data_in_leaf=10, regressor__n_estimators=300, regressor__num_leaves=30 \n",
            "[CV]  preprocessor__num__imputer__strategy=median, regressor__learning_rate=0.03, regressor__max_depth=15, regressor__min_data_in_leaf=10, regressor__n_estimators=300, regressor__num_leaves=30, score=0.937, total=   3.9s\n",
            "[CV] preprocessor__num__imputer__strategy=median, regressor__learning_rate=0.03, regressor__max_depth=15, regressor__min_data_in_leaf=10, regressor__n_estimators=300, regressor__num_leaves=30 \n",
            "[CV]  preprocessor__num__imputer__strategy=median, regressor__learning_rate=0.03, regressor__max_depth=15, regressor__min_data_in_leaf=10, regressor__n_estimators=300, regressor__num_leaves=30, score=0.935, total=   3.8s\n",
            "[CV] preprocessor__num__imputer__strategy=median, regressor__learning_rate=0.03, regressor__max_depth=15, regressor__min_data_in_leaf=10, regressor__n_estimators=300, regressor__num_leaves=45 \n",
            "[CV]  preprocessor__num__imputer__strategy=median, regressor__learning_rate=0.03, regressor__max_depth=15, regressor__min_data_in_leaf=10, regressor__n_estimators=300, regressor__num_leaves=45, score=0.935, total=   4.1s\n",
            "[CV] preprocessor__num__imputer__strategy=median, regressor__learning_rate=0.03, regressor__max_depth=15, regressor__min_data_in_leaf=10, regressor__n_estimators=300, regressor__num_leaves=45 \n",
            "[CV]  preprocessor__num__imputer__strategy=median, regressor__learning_rate=0.03, regressor__max_depth=15, regressor__min_data_in_leaf=10, regressor__n_estimators=300, regressor__num_leaves=45, score=0.937, total=   4.1s\n",
            "[CV] preprocessor__num__imputer__strategy=median, regressor__learning_rate=0.03, regressor__max_depth=15, regressor__min_data_in_leaf=10, regressor__n_estimators=300, regressor__num_leaves=45 \n",
            "[CV]  preprocessor__num__imputer__strategy=median, regressor__learning_rate=0.03, regressor__max_depth=15, regressor__min_data_in_leaf=10, regressor__n_estimators=300, regressor__num_leaves=45, score=0.935, total=   4.1s\n",
            "[CV] preprocessor__num__imputer__strategy=median, regressor__learning_rate=0.03, regressor__max_depth=15, regressor__min_data_in_leaf=20, regressor__n_estimators=200, regressor__num_leaves=30 \n",
            "[CV]  preprocessor__num__imputer__strategy=median, regressor__learning_rate=0.03, regressor__max_depth=15, regressor__min_data_in_leaf=20, regressor__n_estimators=200, regressor__num_leaves=30, score=0.934, total=   2.6s\n",
            "[CV] preprocessor__num__imputer__strategy=median, regressor__learning_rate=0.03, regressor__max_depth=15, regressor__min_data_in_leaf=20, regressor__n_estimators=200, regressor__num_leaves=30 \n",
            "[CV]  preprocessor__num__imputer__strategy=median, regressor__learning_rate=0.03, regressor__max_depth=15, regressor__min_data_in_leaf=20, regressor__n_estimators=200, regressor__num_leaves=30, score=0.936, total=   2.8s\n",
            "[CV] preprocessor__num__imputer__strategy=median, regressor__learning_rate=0.03, regressor__max_depth=15, regressor__min_data_in_leaf=20, regressor__n_estimators=200, regressor__num_leaves=30 \n",
            "[CV]  preprocessor__num__imputer__strategy=median, regressor__learning_rate=0.03, regressor__max_depth=15, regressor__min_data_in_leaf=20, regressor__n_estimators=200, regressor__num_leaves=30, score=0.934, total=   2.8s\n",
            "[CV] preprocessor__num__imputer__strategy=median, regressor__learning_rate=0.03, regressor__max_depth=15, regressor__min_data_in_leaf=20, regressor__n_estimators=200, regressor__num_leaves=45 \n",
            "[CV]  preprocessor__num__imputer__strategy=median, regressor__learning_rate=0.03, regressor__max_depth=15, regressor__min_data_in_leaf=20, regressor__n_estimators=200, regressor__num_leaves=45, score=0.935, total=   2.8s\n",
            "[CV] preprocessor__num__imputer__strategy=median, regressor__learning_rate=0.03, regressor__max_depth=15, regressor__min_data_in_leaf=20, regressor__n_estimators=200, regressor__num_leaves=45 \n",
            "[CV]  preprocessor__num__imputer__strategy=median, regressor__learning_rate=0.03, regressor__max_depth=15, regressor__min_data_in_leaf=20, regressor__n_estimators=200, regressor__num_leaves=45, score=0.936, total=   3.1s\n",
            "[CV] preprocessor__num__imputer__strategy=median, regressor__learning_rate=0.03, regressor__max_depth=15, regressor__min_data_in_leaf=20, regressor__n_estimators=200, regressor__num_leaves=45 \n",
            "[CV]  preprocessor__num__imputer__strategy=median, regressor__learning_rate=0.03, regressor__max_depth=15, regressor__min_data_in_leaf=20, regressor__n_estimators=200, regressor__num_leaves=45, score=0.934, total=   3.1s\n",
            "[CV] preprocessor__num__imputer__strategy=median, regressor__learning_rate=0.03, regressor__max_depth=15, regressor__min_data_in_leaf=20, regressor__n_estimators=300, regressor__num_leaves=30 \n",
            "[CV]  preprocessor__num__imputer__strategy=median, regressor__learning_rate=0.03, regressor__max_depth=15, regressor__min_data_in_leaf=20, regressor__n_estimators=300, regressor__num_leaves=30, score=0.935, total=   3.6s\n",
            "[CV] preprocessor__num__imputer__strategy=median, regressor__learning_rate=0.03, regressor__max_depth=15, regressor__min_data_in_leaf=20, regressor__n_estimators=300, regressor__num_leaves=30 \n",
            "[CV]  preprocessor__num__imputer__strategy=median, regressor__learning_rate=0.03, regressor__max_depth=15, regressor__min_data_in_leaf=20, regressor__n_estimators=300, regressor__num_leaves=30, score=0.937, total=   4.1s\n",
            "[CV] preprocessor__num__imputer__strategy=median, regressor__learning_rate=0.03, regressor__max_depth=15, regressor__min_data_in_leaf=20, regressor__n_estimators=300, regressor__num_leaves=30 \n",
            "[CV]  preprocessor__num__imputer__strategy=median, regressor__learning_rate=0.03, regressor__max_depth=15, regressor__min_data_in_leaf=20, regressor__n_estimators=300, regressor__num_leaves=30, score=0.935, total=   4.1s\n",
            "[CV] preprocessor__num__imputer__strategy=median, regressor__learning_rate=0.03, regressor__max_depth=15, regressor__min_data_in_leaf=20, regressor__n_estimators=300, regressor__num_leaves=45 \n",
            "[CV]  preprocessor__num__imputer__strategy=median, regressor__learning_rate=0.03, regressor__max_depth=15, regressor__min_data_in_leaf=20, regressor__n_estimators=300, regressor__num_leaves=45, score=0.935, total=   4.0s\n",
            "[CV] preprocessor__num__imputer__strategy=median, regressor__learning_rate=0.03, regressor__max_depth=15, regressor__min_data_in_leaf=20, regressor__n_estimators=300, regressor__num_leaves=45 \n",
            "[CV]  preprocessor__num__imputer__strategy=median, regressor__learning_rate=0.03, regressor__max_depth=15, regressor__min_data_in_leaf=20, regressor__n_estimators=300, regressor__num_leaves=45, score=0.937, total=   4.0s\n",
            "[CV] preprocessor__num__imputer__strategy=median, regressor__learning_rate=0.03, regressor__max_depth=15, regressor__min_data_in_leaf=20, regressor__n_estimators=300, regressor__num_leaves=45 \n",
            "[CV]  preprocessor__num__imputer__strategy=median, regressor__learning_rate=0.03, regressor__max_depth=15, regressor__min_data_in_leaf=20, regressor__n_estimators=300, regressor__num_leaves=45, score=0.935, total=   4.0s\n",
            "[CV] preprocessor__num__imputer__strategy=median, regressor__learning_rate=0.05, regressor__max_depth=10, regressor__min_data_in_leaf=10, regressor__n_estimators=200, regressor__num_leaves=30 \n",
            "[CV]  preprocessor__num__imputer__strategy=median, regressor__learning_rate=0.05, regressor__max_depth=10, regressor__min_data_in_leaf=10, regressor__n_estimators=200, regressor__num_leaves=30, score=0.935, total=   2.5s\n",
            "[CV] preprocessor__num__imputer__strategy=median, regressor__learning_rate=0.05, regressor__max_depth=10, regressor__min_data_in_leaf=10, regressor__n_estimators=200, regressor__num_leaves=30 \n",
            "[CV]  preprocessor__num__imputer__strategy=median, regressor__learning_rate=0.05, regressor__max_depth=10, regressor__min_data_in_leaf=10, regressor__n_estimators=200, regressor__num_leaves=30, score=0.937, total=   2.5s\n",
            "[CV] preprocessor__num__imputer__strategy=median, regressor__learning_rate=0.05, regressor__max_depth=10, regressor__min_data_in_leaf=10, regressor__n_estimators=200, regressor__num_leaves=30 \n",
            "[CV]  preprocessor__num__imputer__strategy=median, regressor__learning_rate=0.05, regressor__max_depth=10, regressor__min_data_in_leaf=10, regressor__n_estimators=200, regressor__num_leaves=30, score=0.934, total=   2.5s\n",
            "[CV] preprocessor__num__imputer__strategy=median, regressor__learning_rate=0.05, regressor__max_depth=10, regressor__min_data_in_leaf=10, regressor__n_estimators=200, regressor__num_leaves=45 \n",
            "[CV]  preprocessor__num__imputer__strategy=median, regressor__learning_rate=0.05, regressor__max_depth=10, regressor__min_data_in_leaf=10, regressor__n_estimators=200, regressor__num_leaves=45, score=0.936, total=   2.6s\n",
            "[CV] preprocessor__num__imputer__strategy=median, regressor__learning_rate=0.05, regressor__max_depth=10, regressor__min_data_in_leaf=10, regressor__n_estimators=200, regressor__num_leaves=45 \n",
            "[CV]  preprocessor__num__imputer__strategy=median, regressor__learning_rate=0.05, regressor__max_depth=10, regressor__min_data_in_leaf=10, regressor__n_estimators=200, regressor__num_leaves=45, score=0.936, total=   2.7s\n",
            "[CV] preprocessor__num__imputer__strategy=median, regressor__learning_rate=0.05, regressor__max_depth=10, regressor__min_data_in_leaf=10, regressor__n_estimators=200, regressor__num_leaves=45 \n",
            "[CV]  preprocessor__num__imputer__strategy=median, regressor__learning_rate=0.05, regressor__max_depth=10, regressor__min_data_in_leaf=10, regressor__n_estimators=200, regressor__num_leaves=45, score=0.935, total=   2.6s\n",
            "[CV] preprocessor__num__imputer__strategy=median, regressor__learning_rate=0.05, regressor__max_depth=10, regressor__min_data_in_leaf=10, regressor__n_estimators=300, regressor__num_leaves=30 \n",
            "[CV]  preprocessor__num__imputer__strategy=median, regressor__learning_rate=0.05, regressor__max_depth=10, regressor__min_data_in_leaf=10, regressor__n_estimators=300, regressor__num_leaves=30, score=0.936, total=   3.3s\n",
            "[CV] preprocessor__num__imputer__strategy=median, regressor__learning_rate=0.05, regressor__max_depth=10, regressor__min_data_in_leaf=10, regressor__n_estimators=300, regressor__num_leaves=30 \n",
            "[CV]  preprocessor__num__imputer__strategy=median, regressor__learning_rate=0.05, regressor__max_depth=10, regressor__min_data_in_leaf=10, regressor__n_estimators=300, regressor__num_leaves=30, score=0.937, total=   3.2s\n",
            "[CV] preprocessor__num__imputer__strategy=median, regressor__learning_rate=0.05, regressor__max_depth=10, regressor__min_data_in_leaf=10, regressor__n_estimators=300, regressor__num_leaves=30 \n",
            "[CV]  preprocessor__num__imputer__strategy=median, regressor__learning_rate=0.05, regressor__max_depth=10, regressor__min_data_in_leaf=10, regressor__n_estimators=300, regressor__num_leaves=30, score=0.935, total=   3.3s\n",
            "[CV] preprocessor__num__imputer__strategy=median, regressor__learning_rate=0.05, regressor__max_depth=10, regressor__min_data_in_leaf=10, regressor__n_estimators=300, regressor__num_leaves=45 \n",
            "[CV]  preprocessor__num__imputer__strategy=median, regressor__learning_rate=0.05, regressor__max_depth=10, regressor__min_data_in_leaf=10, regressor__n_estimators=300, regressor__num_leaves=45, score=0.935, total=   3.5s\n",
            "[CV] preprocessor__num__imputer__strategy=median, regressor__learning_rate=0.05, regressor__max_depth=10, regressor__min_data_in_leaf=10, regressor__n_estimators=300, regressor__num_leaves=45 \n",
            "[CV]  preprocessor__num__imputer__strategy=median, regressor__learning_rate=0.05, regressor__max_depth=10, regressor__min_data_in_leaf=10, regressor__n_estimators=300, regressor__num_leaves=45, score=0.937, total=   3.5s\n",
            "[CV] preprocessor__num__imputer__strategy=median, regressor__learning_rate=0.05, regressor__max_depth=10, regressor__min_data_in_leaf=10, regressor__n_estimators=300, regressor__num_leaves=45 \n",
            "[CV]  preprocessor__num__imputer__strategy=median, regressor__learning_rate=0.05, regressor__max_depth=10, regressor__min_data_in_leaf=10, regressor__n_estimators=300, regressor__num_leaves=45, score=0.935, total=   3.6s\n",
            "[CV] preprocessor__num__imputer__strategy=median, regressor__learning_rate=0.05, regressor__max_depth=10, regressor__min_data_in_leaf=20, regressor__n_estimators=200, regressor__num_leaves=30 \n",
            "[CV]  preprocessor__num__imputer__strategy=median, regressor__learning_rate=0.05, regressor__max_depth=10, regressor__min_data_in_leaf=20, regressor__n_estimators=200, regressor__num_leaves=30, score=0.935, total=   2.5s\n",
            "[CV] preprocessor__num__imputer__strategy=median, regressor__learning_rate=0.05, regressor__max_depth=10, regressor__min_data_in_leaf=20, regressor__n_estimators=200, regressor__num_leaves=30 \n",
            "[CV]  preprocessor__num__imputer__strategy=median, regressor__learning_rate=0.05, regressor__max_depth=10, regressor__min_data_in_leaf=20, regressor__n_estimators=200, regressor__num_leaves=30, score=0.937, total=   2.7s\n",
            "[CV] preprocessor__num__imputer__strategy=median, regressor__learning_rate=0.05, regressor__max_depth=10, regressor__min_data_in_leaf=20, regressor__n_estimators=200, regressor__num_leaves=30 \n",
            "[CV]  preprocessor__num__imputer__strategy=median, regressor__learning_rate=0.05, regressor__max_depth=10, regressor__min_data_in_leaf=20, regressor__n_estimators=200, regressor__num_leaves=30, score=0.935, total=   2.8s\n",
            "[CV] preprocessor__num__imputer__strategy=median, regressor__learning_rate=0.05, regressor__max_depth=10, regressor__min_data_in_leaf=20, regressor__n_estimators=200, regressor__num_leaves=45 \n",
            "[CV]  preprocessor__num__imputer__strategy=median, regressor__learning_rate=0.05, regressor__max_depth=10, regressor__min_data_in_leaf=20, regressor__n_estimators=200, regressor__num_leaves=45, score=0.935, total=   2.6s\n",
            "[CV] preprocessor__num__imputer__strategy=median, regressor__learning_rate=0.05, regressor__max_depth=10, regressor__min_data_in_leaf=20, regressor__n_estimators=200, regressor__num_leaves=45 \n",
            "[CV]  preprocessor__num__imputer__strategy=median, regressor__learning_rate=0.05, regressor__max_depth=10, regressor__min_data_in_leaf=20, regressor__n_estimators=200, regressor__num_leaves=45, score=0.937, total=   2.9s\n",
            "[CV] preprocessor__num__imputer__strategy=median, regressor__learning_rate=0.05, regressor__max_depth=10, regressor__min_data_in_leaf=20, regressor__n_estimators=200, regressor__num_leaves=45 \n",
            "[CV]  preprocessor__num__imputer__strategy=median, regressor__learning_rate=0.05, regressor__max_depth=10, regressor__min_data_in_leaf=20, regressor__n_estimators=200, regressor__num_leaves=45, score=0.935, total=   2.9s\n",
            "[CV] preprocessor__num__imputer__strategy=median, regressor__learning_rate=0.05, regressor__max_depth=10, regressor__min_data_in_leaf=20, regressor__n_estimators=300, regressor__num_leaves=30 \n",
            "[CV]  preprocessor__num__imputer__strategy=median, regressor__learning_rate=0.05, regressor__max_depth=10, regressor__min_data_in_leaf=20, regressor__n_estimators=300, regressor__num_leaves=30, score=0.936, total=   3.3s\n",
            "[CV] preprocessor__num__imputer__strategy=median, regressor__learning_rate=0.05, regressor__max_depth=10, regressor__min_data_in_leaf=20, regressor__n_estimators=300, regressor__num_leaves=30 \n",
            "[CV]  preprocessor__num__imputer__strategy=median, regressor__learning_rate=0.05, regressor__max_depth=10, regressor__min_data_in_leaf=20, regressor__n_estimators=300, regressor__num_leaves=30, score=0.937, total=   3.6s\n",
            "[CV] preprocessor__num__imputer__strategy=median, regressor__learning_rate=0.05, regressor__max_depth=10, regressor__min_data_in_leaf=20, regressor__n_estimators=300, regressor__num_leaves=30 \n",
            "[CV]  preprocessor__num__imputer__strategy=median, regressor__learning_rate=0.05, regressor__max_depth=10, regressor__min_data_in_leaf=20, regressor__n_estimators=300, regressor__num_leaves=30, score=0.935, total=   3.6s\n",
            "[CV] preprocessor__num__imputer__strategy=median, regressor__learning_rate=0.05, regressor__max_depth=10, regressor__min_data_in_leaf=20, regressor__n_estimators=300, regressor__num_leaves=45 \n",
            "[CV]  preprocessor__num__imputer__strategy=median, regressor__learning_rate=0.05, regressor__max_depth=10, regressor__min_data_in_leaf=20, regressor__n_estimators=300, regressor__num_leaves=45, score=0.935, total=   3.6s\n",
            "[CV] preprocessor__num__imputer__strategy=median, regressor__learning_rate=0.05, regressor__max_depth=10, regressor__min_data_in_leaf=20, regressor__n_estimators=300, regressor__num_leaves=45 \n",
            "[CV]  preprocessor__num__imputer__strategy=median, regressor__learning_rate=0.05, regressor__max_depth=10, regressor__min_data_in_leaf=20, regressor__n_estimators=300, regressor__num_leaves=45, score=0.937, total=   3.9s\n",
            "[CV] preprocessor__num__imputer__strategy=median, regressor__learning_rate=0.05, regressor__max_depth=10, regressor__min_data_in_leaf=20, regressor__n_estimators=300, regressor__num_leaves=45 \n",
            "[CV]  preprocessor__num__imputer__strategy=median, regressor__learning_rate=0.05, regressor__max_depth=10, regressor__min_data_in_leaf=20, regressor__n_estimators=300, regressor__num_leaves=45, score=0.935, total=   4.0s\n",
            "[CV] preprocessor__num__imputer__strategy=median, regressor__learning_rate=0.05, regressor__max_depth=15, regressor__min_data_in_leaf=10, regressor__n_estimators=200, regressor__num_leaves=30 \n",
            "[CV]  preprocessor__num__imputer__strategy=median, regressor__learning_rate=0.05, regressor__max_depth=15, regressor__min_data_in_leaf=10, regressor__n_estimators=200, regressor__num_leaves=30, score=0.935, total=   2.6s\n",
            "[CV] preprocessor__num__imputer__strategy=median, regressor__learning_rate=0.05, regressor__max_depth=15, regressor__min_data_in_leaf=10, regressor__n_estimators=200, regressor__num_leaves=30 \n",
            "[CV]  preprocessor__num__imputer__strategy=median, regressor__learning_rate=0.05, regressor__max_depth=15, regressor__min_data_in_leaf=10, regressor__n_estimators=200, regressor__num_leaves=30, score=0.936, total=   2.6s\n",
            "[CV] preprocessor__num__imputer__strategy=median, regressor__learning_rate=0.05, regressor__max_depth=15, regressor__min_data_in_leaf=10, regressor__n_estimators=200, regressor__num_leaves=30 \n",
            "[CV]  preprocessor__num__imputer__strategy=median, regressor__learning_rate=0.05, regressor__max_depth=15, regressor__min_data_in_leaf=10, regressor__n_estimators=200, regressor__num_leaves=30, score=0.935, total=   2.6s\n",
            "[CV] preprocessor__num__imputer__strategy=median, regressor__learning_rate=0.05, regressor__max_depth=15, regressor__min_data_in_leaf=10, regressor__n_estimators=200, regressor__num_leaves=45 \n",
            "[CV]  preprocessor__num__imputer__strategy=median, regressor__learning_rate=0.05, regressor__max_depth=15, regressor__min_data_in_leaf=10, regressor__n_estimators=200, regressor__num_leaves=45, score=0.935, total=   2.8s\n",
            "[CV] preprocessor__num__imputer__strategy=median, regressor__learning_rate=0.05, regressor__max_depth=15, regressor__min_data_in_leaf=10, regressor__n_estimators=200, regressor__num_leaves=45 \n",
            "[CV]  preprocessor__num__imputer__strategy=median, regressor__learning_rate=0.05, regressor__max_depth=15, regressor__min_data_in_leaf=10, regressor__n_estimators=200, regressor__num_leaves=45, score=0.937, total=   2.8s\n",
            "[CV] preprocessor__num__imputer__strategy=median, regressor__learning_rate=0.05, regressor__max_depth=15, regressor__min_data_in_leaf=10, regressor__n_estimators=200, regressor__num_leaves=45 \n",
            "[CV]  preprocessor__num__imputer__strategy=median, regressor__learning_rate=0.05, regressor__max_depth=15, regressor__min_data_in_leaf=10, regressor__n_estimators=200, regressor__num_leaves=45, score=0.935, total=   2.8s\n",
            "[CV] preprocessor__num__imputer__strategy=median, regressor__learning_rate=0.05, regressor__max_depth=15, regressor__min_data_in_leaf=10, regressor__n_estimators=300, regressor__num_leaves=30 \n",
            "[CV]  preprocessor__num__imputer__strategy=median, regressor__learning_rate=0.05, regressor__max_depth=15, regressor__min_data_in_leaf=10, regressor__n_estimators=300, regressor__num_leaves=30, score=0.935, total=   3.4s\n",
            "[CV] preprocessor__num__imputer__strategy=median, regressor__learning_rate=0.05, regressor__max_depth=15, regressor__min_data_in_leaf=10, regressor__n_estimators=300, regressor__num_leaves=30 \n",
            "[CV]  preprocessor__num__imputer__strategy=median, regressor__learning_rate=0.05, regressor__max_depth=15, regressor__min_data_in_leaf=10, regressor__n_estimators=300, regressor__num_leaves=30, score=0.936, total=   3.4s\n",
            "[CV] preprocessor__num__imputer__strategy=median, regressor__learning_rate=0.05, regressor__max_depth=15, regressor__min_data_in_leaf=10, regressor__n_estimators=300, regressor__num_leaves=30 \n",
            "[CV]  preprocessor__num__imputer__strategy=median, regressor__learning_rate=0.05, regressor__max_depth=15, regressor__min_data_in_leaf=10, regressor__n_estimators=300, regressor__num_leaves=30, score=0.935, total=   3.3s\n",
            "[CV] preprocessor__num__imputer__strategy=median, regressor__learning_rate=0.05, regressor__max_depth=15, regressor__min_data_in_leaf=10, regressor__n_estimators=300, regressor__num_leaves=45 \n",
            "[CV]  preprocessor__num__imputer__strategy=median, regressor__learning_rate=0.05, regressor__max_depth=15, regressor__min_data_in_leaf=10, regressor__n_estimators=300, regressor__num_leaves=45, score=0.935, total=   3.7s\n",
            "[CV] preprocessor__num__imputer__strategy=median, regressor__learning_rate=0.05, regressor__max_depth=15, regressor__min_data_in_leaf=10, regressor__n_estimators=300, regressor__num_leaves=45 \n",
            "[CV]  preprocessor__num__imputer__strategy=median, regressor__learning_rate=0.05, regressor__max_depth=15, regressor__min_data_in_leaf=10, regressor__n_estimators=300, regressor__num_leaves=45, score=0.937, total=   3.7s\n",
            "[CV] preprocessor__num__imputer__strategy=median, regressor__learning_rate=0.05, regressor__max_depth=15, regressor__min_data_in_leaf=10, regressor__n_estimators=300, regressor__num_leaves=45 \n",
            "[CV]  preprocessor__num__imputer__strategy=median, regressor__learning_rate=0.05, regressor__max_depth=15, regressor__min_data_in_leaf=10, regressor__n_estimators=300, regressor__num_leaves=45, score=0.935, total=   3.7s\n",
            "[CV] preprocessor__num__imputer__strategy=median, regressor__learning_rate=0.05, regressor__max_depth=15, regressor__min_data_in_leaf=20, regressor__n_estimators=200, regressor__num_leaves=30 \n",
            "[CV]  preprocessor__num__imputer__strategy=median, regressor__learning_rate=0.05, regressor__max_depth=15, regressor__min_data_in_leaf=20, regressor__n_estimators=200, regressor__num_leaves=30, score=0.935, total=   2.6s\n",
            "[CV] preprocessor__num__imputer__strategy=median, regressor__learning_rate=0.05, regressor__max_depth=15, regressor__min_data_in_leaf=20, regressor__n_estimators=200, regressor__num_leaves=30 \n",
            "[CV]  preprocessor__num__imputer__strategy=median, regressor__learning_rate=0.05, regressor__max_depth=15, regressor__min_data_in_leaf=20, regressor__n_estimators=200, regressor__num_leaves=30, score=0.936, total=   2.9s\n",
            "[CV] preprocessor__num__imputer__strategy=median, regressor__learning_rate=0.05, regressor__max_depth=15, regressor__min_data_in_leaf=20, regressor__n_estimators=200, regressor__num_leaves=30 \n",
            "[CV]  preprocessor__num__imputer__strategy=median, regressor__learning_rate=0.05, regressor__max_depth=15, regressor__min_data_in_leaf=20, regressor__n_estimators=200, regressor__num_leaves=30, score=0.934, total=   2.9s\n",
            "[CV] preprocessor__num__imputer__strategy=median, regressor__learning_rate=0.05, regressor__max_depth=15, regressor__min_data_in_leaf=20, regressor__n_estimators=200, regressor__num_leaves=45 \n",
            "[CV]  preprocessor__num__imputer__strategy=median, regressor__learning_rate=0.05, regressor__max_depth=15, regressor__min_data_in_leaf=20, regressor__n_estimators=200, regressor__num_leaves=45, score=0.935, total=   2.8s\n",
            "[CV] preprocessor__num__imputer__strategy=median, regressor__learning_rate=0.05, regressor__max_depth=15, regressor__min_data_in_leaf=20, regressor__n_estimators=200, regressor__num_leaves=45 \n",
            "[CV]  preprocessor__num__imputer__strategy=median, regressor__learning_rate=0.05, regressor__max_depth=15, regressor__min_data_in_leaf=20, regressor__n_estimators=200, regressor__num_leaves=45, score=0.937, total=   3.1s\n",
            "[CV] preprocessor__num__imputer__strategy=median, regressor__learning_rate=0.05, regressor__max_depth=15, regressor__min_data_in_leaf=20, regressor__n_estimators=200, regressor__num_leaves=45 \n",
            "[CV]  preprocessor__num__imputer__strategy=median, regressor__learning_rate=0.05, regressor__max_depth=15, regressor__min_data_in_leaf=20, regressor__n_estimators=200, regressor__num_leaves=45, score=0.935, total=   3.1s\n",
            "[CV] preprocessor__num__imputer__strategy=median, regressor__learning_rate=0.05, regressor__max_depth=15, regressor__min_data_in_leaf=20, regressor__n_estimators=300, regressor__num_leaves=30 \n",
            "[CV]  preprocessor__num__imputer__strategy=median, regressor__learning_rate=0.05, regressor__max_depth=15, regressor__min_data_in_leaf=20, regressor__n_estimators=300, regressor__num_leaves=30, score=0.935, total=   3.3s\n",
            "[CV] preprocessor__num__imputer__strategy=median, regressor__learning_rate=0.05, regressor__max_depth=15, regressor__min_data_in_leaf=20, regressor__n_estimators=300, regressor__num_leaves=30 \n",
            "[CV]  preprocessor__num__imputer__strategy=median, regressor__learning_rate=0.05, regressor__max_depth=15, regressor__min_data_in_leaf=20, regressor__n_estimators=300, regressor__num_leaves=30, score=0.937, total=   3.7s\n",
            "[CV] preprocessor__num__imputer__strategy=median, regressor__learning_rate=0.05, regressor__max_depth=15, regressor__min_data_in_leaf=20, regressor__n_estimators=300, regressor__num_leaves=30 \n",
            "[CV]  preprocessor__num__imputer__strategy=median, regressor__learning_rate=0.05, regressor__max_depth=15, regressor__min_data_in_leaf=20, regressor__n_estimators=300, regressor__num_leaves=30, score=0.935, total=   3.7s\n",
            "[CV] preprocessor__num__imputer__strategy=median, regressor__learning_rate=0.05, regressor__max_depth=15, regressor__min_data_in_leaf=20, regressor__n_estimators=300, regressor__num_leaves=45 \n",
            "[CV]  preprocessor__num__imputer__strategy=median, regressor__learning_rate=0.05, regressor__max_depth=15, regressor__min_data_in_leaf=20, regressor__n_estimators=300, regressor__num_leaves=45, score=0.935, total=   3.6s\n",
            "[CV] preprocessor__num__imputer__strategy=median, regressor__learning_rate=0.05, regressor__max_depth=15, regressor__min_data_in_leaf=20, regressor__n_estimators=300, regressor__num_leaves=45 \n",
            "[CV]  preprocessor__num__imputer__strategy=median, regressor__learning_rate=0.05, regressor__max_depth=15, regressor__min_data_in_leaf=20, regressor__n_estimators=300, regressor__num_leaves=45, score=0.937, total=   4.0s\n",
            "[CV] preprocessor__num__imputer__strategy=median, regressor__learning_rate=0.05, regressor__max_depth=15, regressor__min_data_in_leaf=20, regressor__n_estimators=300, regressor__num_leaves=45 \n",
            "[CV]  preprocessor__num__imputer__strategy=median, regressor__learning_rate=0.05, regressor__max_depth=15, regressor__min_data_in_leaf=20, regressor__n_estimators=300, regressor__num_leaves=45, score=0.935, total=   4.0s\n"
          ],
          "name": "stdout"
        },
        {
          "output_type": "stream",
          "text": [
            "[Parallel(n_jobs=1)]: Done  96 out of  96 | elapsed:  5.2min finished\n"
          ],
          "name": "stderr"
        },
        {
          "output_type": "execute_result",
          "data": {
            "text/plain": [
              "GridSearchCV(cv=3, error_score=nan,\n",
              "             estimator=Pipeline(memory=None,\n",
              "                                steps=[('preprocessor',\n",
              "                                        ColumnTransformer(n_jobs=None,\n",
              "                                                          remainder='drop',\n",
              "                                                          sparse_threshold=0.3,\n",
              "                                                          transformer_weights=None,\n",
              "                                                          transformers=[('num',\n",
              "                                                                         Pipeline(memory=None,\n",
              "                                                                                  steps=[('imputer',\n",
              "                                                                                          SimpleImputer(add_indicator=False,\n",
              "                                                                                                        copy=True,\n",
              "                                                                                                        fill_value='median',\n",
              "                                                                                                        missing_values=nan,\n",
              "                                                                                                        strategy='mean',\n",
              "                                                                                                        verbose=0)...\n",
              "             iid='deprecated', n_jobs=1,\n",
              "             param_grid={'preprocessor__num__imputer__strategy': ['median'],\n",
              "                         'regressor__learning_rate': [0.03, 0.05],\n",
              "                         'regressor__max_depth': [10, 15],\n",
              "                         'regressor__min_data_in_leaf': [10, 20],\n",
              "                         'regressor__n_estimators': [200, 300],\n",
              "                         'regressor__num_leaves': [30, 45]},\n",
              "             pre_dispatch='2*n_jobs', refit=True, return_train_score=False,\n",
              "             scoring='accuracy', verbose=3)"
            ]
          },
          "metadata": {
            "tags": []
          },
          "execution_count": 9
        }
      ]
    },
    {
      "cell_type": "code",
      "metadata": {
        "id": "m910kc5Wb0yQ",
        "colab_type": "code",
        "outputId": "fb512b39-18e3-4e22-ffc4-9d566b1fdadc",
        "colab": {
          "base_uri": "https://localhost:8080/",
          "height": 34
        }
      },
      "source": [
        "y_pred = grid_search.predict(X_test)\n",
        "accuracy_score(y_test, y_pred)*100"
      ],
      "execution_count": 10,
      "outputs": [
        {
          "output_type": "execute_result",
          "data": {
            "text/plain": [
              "93.43271555197421"
            ]
          },
          "metadata": {
            "tags": []
          },
          "execution_count": 10
        }
      ]
    },
    {
      "cell_type": "code",
      "metadata": {
        "id": "kyD9IDECeQyG",
        "colab_type": "code",
        "colab": {
          "base_uri": "https://localhost:8080/",
          "height": 52
        },
        "outputId": "da6e5595-2812-4bc2-cb00-ad94bd14f6ee"
      },
      "source": [
        "from sklearn.metrics import confusion_matrix\n",
        "confusion_matrix(y_test, y_pred)"
      ],
      "execution_count": 11,
      "outputs": [
        {
          "output_type": "execute_result",
          "data": {
            "text/plain": [
              "array([[67537,  4028],\n",
              "       [ 3307, 36818]])"
            ]
          },
          "metadata": {
            "tags": []
          },
          "execution_count": 11
        }
      ]
    },
    {
      "cell_type": "code",
      "metadata": {
        "id": "CzH2xInrPXjF",
        "colab_type": "code",
        "colab": {}
      },
      "source": [
        ""
      ],
      "execution_count": 0,
      "outputs": []
    }
  ]
}